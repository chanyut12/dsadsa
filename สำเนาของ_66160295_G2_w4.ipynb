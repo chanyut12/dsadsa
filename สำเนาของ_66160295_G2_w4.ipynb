{
  "nbformat": 4,
  "nbformat_minor": 0,
  "metadata": {
    "colab": {
      "provenance": [],
      "include_colab_link": true
    },
    "kernelspec": {
      "name": "python3",
      "display_name": "Python 3"
    },
    "language_info": {
      "name": "python"
    }
  },
  "cells": [
    {
      "cell_type": "markdown",
      "metadata": {
        "id": "view-in-github",
        "colab_type": "text"
      },
      "source": [
        "<a href=\"https://colab.research.google.com/github/chanyut12/mathforcom/blob/main/%E0%B8%AA%E0%B8%B3%E0%B9%80%E0%B8%99%E0%B8%B2%E0%B8%82%E0%B8%AD%E0%B8%87_66160295_G2_w4.ipynb\" target=\"_parent\"><img src=\"https://colab.research.google.com/assets/colab-badge.svg\" alt=\"Open In Colab\"/></a>"
      ]
    },
    {
      "cell_type": "markdown",
      "metadata": {
        "id": "dykmieOgFVGc"
      },
      "source": [
        "**ให้นิสิต เลือกเมนู File-->Save a copy in drive เพื่อคัดลอกไฟล์ไปไว้ในไดร์ฟของนิสิตก่อน และเปลี่ยนชื่อไฟล์เป็น รหัสนิสิต_week4.ipynb ก่อนส่งงานค่ะ**\n",
        "\n",
        "1.จงตรวจสอบระบบสมการต่อไปนี้ว่าเป็นระบบสมการเอกพันธ์/ไม่เอกพันธ์ สอดคล้อง/ไม่สอดคล้อง หากเป็นระบบสมการสอดคล้อง มีผลเฉลยชุดเดียว/หลายชุด      \n",
        "\n",
        "\n",
        "1.1\n",
        "\n",
        "$2x_1+4x_2-5x_3 = 0 $\n",
        "\n",
        "$4x_1-2x_2+x_3 = 0 $\n",
        "\n",
        "$x_1+2x_2+3x_3 = 0 $\n",
        "\n",
        "\n",
        "1.2\n",
        "\n",
        "$3x_1-2x_2+x_3 +4x_4 = 5 $\n",
        "\n",
        "$2x_1+x_2+4x_3-2x_4 = 9 $\n",
        "\n",
        "$x_1-3x_2+x_3+6x_4 = 10 $\n",
        "\n",
        "$-x_2+x_3+2x_4 = 8 $\n",
        "\n",
        "1.3\n",
        "\n",
        "$6x_1-2x_2+8x_3 +2x_4 = 0 $\n",
        "\n",
        "$8x_1-4x_2+2x_3+4x_4 = 0 $\n",
        "\n",
        "$x_1+x_2-x_3+5x_4 = 0 $\n",
        "\n",
        "$4x_1-2x_2+x_3+2x_4 = 0 $\n",
        "\n",
        "\n",
        "\n",
        "2. จงหาคำตอบของระบบสมการต่อไปนี้ โดยใช้เมทริกซ์ผกผัน (Inverse matrix)\n",
        "\n",
        "$x_1+3x_2-x_3 +2x_4 = -1 $\n",
        "\n",
        "$2x_1-x_2+3x_3-x_4 = 2 $\n",
        "\n",
        "$x_1+2x_2+4x_3+x_4 = 3 $\n",
        "\n",
        "$4x_2+x_3+5x_4 = 8 $\n",
        "\n",
        "3. จงหาคำตอบของระบบสมการในข้อ 2. โดยการเรียกใช้งานฟังก์ชั่น np.linalg.solve และ เปรียบเทียบผลลัพธ์ที่ได้ในข้อ 2. กับผลลัพธ์ที่ได้ในข้อ 3. ว่าเท่ากันหรือไม่\n",
        "\n",
        "4. จงหาคำตอบของระบบสมการในข้อ 2. โดยใช้ Cramer’s rule\n",
        "\n",
        "5. จงหาคำตอบของระบบสมการในข้อ 2. โดยใช้ Gaussian Elimination\n",
        "\n"
      ]
    },
    {
      "cell_type": "code",
      "source": [
        "#ชื่อ ชาญยุทธ ลิสวัสดิ์ รหัส 66160295"
      ],
      "metadata": {
        "id": "8AR74N-JCqZg"
      },
      "execution_count": null,
      "outputs": []
    },
    {
      "cell_type": "code",
      "source": [
        "#1.จงตรวจสอบระบบสมการต่อไปนี้ว่าเป็นระบบสมการเอกพันธ์/ไม่เอกพันธ์ สอดคล้อง/ไม่สอดคล้อง\n",
        "# หากเป็นระบบสมการสอดคล้อง มีผลเฉลยชุดเดียว/หลายชุด\n",
        "#1.1\n",
        "import numpy as np\n",
        "A = np.array([[2,4,-5],[4,-2,-1],[1,2,3]],float)\n",
        "B = np.array([[0],[0],[0]])\n",
        "\n",
        "print(\"1.1\")\n",
        "print('Matrix A:')\n",
        "print(A)\n",
        "n = A.shape[1]\n",
        "AB = np.hstack([A,B])\n",
        "print('Matrix [A:B]:')\n",
        "print(AB)\n",
        "\n",
        "detA = np.linalg.det(A)\n",
        "print('detA =',round(detA))\n",
        "rankA=np.linalg.matrix_rank(A)\n",
        "print('rank A =',rankA)\n",
        "rankAB=np.linalg.matrix_rank(AB)\n",
        "print('rank [A:B] =',rankAB)\n",
        "print('Number of variables =',n)\n",
        "if np.array_equal(B, np.zeros(B.shape)):\n",
        "  print('This is a homogeneous system of linear equations.')\n",
        "  if round(detA)!=0:\n",
        "    print('The equations are consistent and have unique solution.')\n",
        "    for i in range(n):\n",
        "      print('x', i + 1, ' = 0')\n",
        "  else:\n",
        "    print('The equations are consistent and have multiple solutions.')\n",
        "else:\n",
        "  print('This is a non-homogeneous system of linear equations.')\n",
        "  if rankA==rankAB and rankA==n :\n",
        "    print('The equations are consistent and have unique solution.')\n",
        "  elif rankA==rankAB and rankA<n :\n",
        "    print('The equations are consistent and have multiple solutions.')\n",
        "  else:\n",
        "    print('The equations are inconsistent and has no solution.')"
      ],
      "metadata": {
        "colab": {
          "base_uri": "https://localhost:8080/"
        },
        "id": "MC5d66rNyGpR",
        "outputId": "f3b7f5dd-f7c9-4d57-b0a6-17ac4744b069"
      },
      "execution_count": null,
      "outputs": [
        {
          "output_type": "stream",
          "name": "stdout",
          "text": [
            "1.1\n",
            "Matrix A:\n",
            "[[ 2.  4. -5.]\n",
            " [ 4. -2. -1.]\n",
            " [ 1.  2.  3.]]\n",
            "Matrix [A:B]:\n",
            "[[ 2.  4. -5.  0.]\n",
            " [ 4. -2. -1.  0.]\n",
            " [ 1.  2.  3.  0.]]\n",
            "detA = -110\n",
            "rank A = 3\n",
            "rank [A:B] = 3\n",
            "Number of variables = 3\n",
            "This is a homogeneous system of linear equations.\n",
            "The equations are consistent and have unique solution.\n",
            "x 1  = 0\n",
            "x 2  = 0\n",
            "x 3  = 0\n"
          ]
        }
      ]
    },
    {
      "cell_type": "code",
      "source": [
        "#1.2\n",
        "import numpy as np\n",
        "A = np.array([[3, -2, 1, 4],[2, 1, 4, -2],[1, -3, 1, 6],[0, -1, 1, 2]],float)\n",
        "B = np.array([[5],[9],[10], [8]])\n",
        "\n",
        "print(\"1.2\")\n",
        "print('Matrix A:')\n",
        "print(A)\n",
        "n = A.shape[1]\n",
        "AB = np.hstack([A,B])\n",
        "print('Matrix [A:B]:')\n",
        "print(AB)\n",
        "\n",
        "detA = np.linalg.det(A)\n",
        "print('detA =',round(detA))\n",
        "rankA=np.linalg.matrix_rank(A)\n",
        "print('rank A =',rankA)\n",
        "rankAB=np.linalg.matrix_rank(AB)\n",
        "print('rank [A:B] =',rankAB)\n",
        "print('Number of variables =',n)\n",
        "if np.array_equal(B, np.zeros(B.shape)):\n",
        "  print('This is a homogeneous system of linear equations.')\n",
        "  if round(detA)!=0:\n",
        "    print('The equations are consistent and have unique solution.')\n",
        "    for i in range(n):\n",
        "      print('x', i + 1, ' = 0')\n",
        "  else:\n",
        "    print('The equations are consistent and have multiple solutions.')\n",
        "else:\n",
        "  print('This is a non-homogeneous system of linear equations.')\n",
        "  if rankA==rankAB and rankA==n :\n",
        "    print('The equations are consistent and have unique solution.')\n",
        "  elif rankA==rankAB and rankA<n :\n",
        "    print('The equations are consistent and have multiple solutions.')\n",
        "  else:\n",
        "    print('The equations are inconsistent and has no solution.')"
      ],
      "metadata": {
        "colab": {
          "base_uri": "https://localhost:8080/"
        },
        "id": "JAoKnU_z1uSH",
        "outputId": "26849ab9-ada3-4188-d4b5-af3640cfb22c"
      },
      "execution_count": null,
      "outputs": [
        {
          "output_type": "stream",
          "name": "stdout",
          "text": [
            "1.2\n",
            "Matrix A:\n",
            "[[ 3. -2.  1.  4.]\n",
            " [ 2.  1.  4. -2.]\n",
            " [ 1. -3.  1.  6.]\n",
            " [ 0. -1.  1.  2.]]\n",
            "Matrix [A:B]:\n",
            "[[ 3. -2.  1.  4.  5.]\n",
            " [ 2.  1.  4. -2.  9.]\n",
            " [ 1. -3.  1.  6. 10.]\n",
            " [ 0. -1.  1.  2.  8.]]\n",
            "detA = 0\n",
            "rank A = 3\n",
            "rank [A:B] = 4\n",
            "Number of variables = 4\n",
            "This is a non-homogeneous system of linear equations.\n",
            "The equations are inconsistent and has no solution.\n"
          ]
        }
      ]
    },
    {
      "cell_type": "code",
      "source": [
        "#1.3\n",
        "A = np.array([[6, -2, 8, 2],[8, -4, 2, 4],[1, 1, -1, 5],[4, -2, 1, 2]],float)\n",
        "B = np.array([[0],[0],[0], [0]])\n",
        "\n",
        "print(\"1.3\")\n",
        "print('Matrix A:')\n",
        "print(A)\n",
        "n = A.shape[1]\n",
        "AB = np.hstack([A,B])\n",
        "print('Matrix [A:B]:')\n",
        "print(AB)\n",
        "\n",
        "detA = np.linalg.det(A)\n",
        "print('detA =',round(detA))\n",
        "rankA=np.linalg.matrix_rank(A)\n",
        "print('rank A =',rankA)\n",
        "rankAB=np.linalg.matrix_rank(AB)\n",
        "print('rank [A:B] =',rankAB)\n",
        "print('Number of variables =',n)\n",
        "if np.array_equal(B, np.zeros(B.shape)):\n",
        "  print('This is a homogeneous system of linear equations.')\n",
        "  if round(detA)!=0:\n",
        "    print('The equations are consistent and have unique solution.')\n",
        "    for i in range(n):\n",
        "      print('x', i + 1, ' = 0')\n",
        "  else:\n",
        "    print('The equations are consistent and have multiple solutions.')\n",
        "else:\n",
        "  print('This is a non-homogeneous system of linear equations.')\n",
        "  if rankA==rankAB and rankA==n :\n",
        "    print('The equations are consistent and have unique solution.')\n",
        "  elif rankA==rankAB and rankA<n :\n",
        "    print('The equations are consistent and have multiple solutions.')\n",
        "  else:\n",
        "    print('The equations are inconsistent and has no solution.')"
      ],
      "metadata": {
        "colab": {
          "base_uri": "https://localhost:8080/"
        },
        "id": "5f8sIJjx_GGm",
        "outputId": "e4328467-9758-4aa7-a522-6d09a6ef58fd"
      },
      "execution_count": null,
      "outputs": [
        {
          "output_type": "stream",
          "name": "stdout",
          "text": [
            "1.3\n",
            "Matrix A:\n",
            "[[ 6. -2.  8.  2.]\n",
            " [ 8. -4.  2.  4.]\n",
            " [ 1.  1. -1.  5.]\n",
            " [ 4. -2.  1.  2.]]\n",
            "Matrix [A:B]:\n",
            "[[ 6. -2.  8.  2.  0.]\n",
            " [ 8. -4.  2.  4.  0.]\n",
            " [ 1.  1. -1.  5.  0.]\n",
            " [ 4. -2.  1.  2.  0.]]\n",
            "detA = 0\n",
            "rank A = 3\n",
            "rank [A:B] = 3\n",
            "Number of variables = 4\n",
            "This is a homogeneous system of linear equations.\n",
            "The equations are consistent and have multiple solutions.\n"
          ]
        }
      ]
    },
    {
      "cell_type": "code",
      "source": [
        "#2.จงหาคำตอบของระบบสมการต่อไปนี้ โดยใช้เมทริกซ์ผกผัน (Inverse matrix)\n",
        "import numpy as np\n",
        "A = np.array([[1, 3, -1, 2],[2, -1, 3, -1],[1, 2, 4, 1],[0, 4, 1, 5]],float)\n",
        "B = np.array([[-1, 2, 3, 8]])\n",
        "BT = B.transpose()\n",
        "print(\"2.\")\n",
        "print('Matrix A:')\n",
        "print(A)\n",
        "print('Matrix B:')\n",
        "print(BT)\n",
        "inverseA = np.linalg.inv(A)\n",
        "print('Inverse Matrix of A:')\n",
        "print(inverseA)\n",
        "solutionX = np.around(inverseA@BT, decimals=2)\n",
        "n = solutionX.shape[0]\n",
        "print('Solution Matrix of A:')\n",
        "print(solutionX)\n",
        "for i in range(n):\n",
        "  print('x',i+1,' = ',solutionX[i])"
      ],
      "metadata": {
        "colab": {
          "base_uri": "https://localhost:8080/"
        },
        "id": "GIrs7vUL1z1n",
        "outputId": "2d39dad4-469a-4118-9a7b-69e53af298e8"
      },
      "execution_count": null,
      "outputs": [
        {
          "output_type": "stream",
          "name": "stdout",
          "text": [
            "2.\n",
            "Matrix A:\n",
            "[[ 1.  3. -1.  2.]\n",
            " [ 2. -1.  3. -1.]\n",
            " [ 1.  2.  4.  1.]\n",
            " [ 0.  4.  1.  5.]]\n",
            "Matrix B:\n",
            "[[-1]\n",
            " [ 2]\n",
            " [ 3]\n",
            " [ 8]]\n",
            "Inverse Matrix of A:\n",
            "[[ 0.31944444  0.48611111 -0.29166667  0.02777778]\n",
            " [ 0.30555556 -0.36111111  0.41666667 -0.27777778]\n",
            " [-0.18055556 -0.01388889  0.20833333  0.02777778]\n",
            " [-0.20833333  0.29166667 -0.375       0.41666667]]\n",
            "Solution Matrix of A:\n",
            "[[-0.]\n",
            " [-2.]\n",
            " [ 1.]\n",
            " [ 3.]]\n",
            "x 1  =  [-0.]\n",
            "x 2  =  [-2.]\n",
            "x 3  =  [1.]\n",
            "x 4  =  [3.]\n"
          ]
        }
      ]
    },
    {
      "cell_type": "code",
      "source": [
        "#3.จงหาคำตอบของระบบสมการในข้อ 2.\n",
        "# โดยการเรียกใช้งานฟังก์ชั่น np.linalg.solve และ เปรียบเทียบผลลัพธ์ที่ได้ในข้อ 2. กับผลลัพธ์ที่ได้ในข้อ 3. ว่าเท่ากันหรือไม่\n",
        "print(\"3.\")\n",
        "print('Matrix A:')\n",
        "print(A)\n",
        "n = A.shape[1]\n",
        "print('Matrix B:')\n",
        "print(BT)\n",
        "\n",
        "x = np.linalg.solve(A, BT)\n",
        "print('\\nSolution is: ')\n",
        "print(x)\n",
        "for i in range(n):\n",
        "  print('x%d = %0.2f' %(i,x[i]), end = '\\t')"
      ],
      "metadata": {
        "colab": {
          "base_uri": "https://localhost:8080/"
        },
        "id": "sDpUOTaf3KH2",
        "outputId": "10f994a9-f139-44fc-8cfa-bb388c8876ac"
      },
      "execution_count": null,
      "outputs": [
        {
          "output_type": "stream",
          "name": "stdout",
          "text": [
            "3.\n",
            "Matrix A:\n",
            "[[ 1.  3. -1.  2.]\n",
            " [ 2. -1.  3. -1.]\n",
            " [ 1.  2.  4.  1.]\n",
            " [ 0.  4.  1.  5.]]\n",
            "Matrix B:\n",
            "[[-1]\n",
            " [ 2]\n",
            " [ 3]\n",
            " [ 8]]\n",
            "\n",
            "Solution is: \n",
            "[[-2.22044605e-16]\n",
            " [-2.00000000e+00]\n",
            " [ 1.00000000e+00]\n",
            " [ 3.00000000e+00]]\n",
            "x0 = -0.00\tx1 = -2.00\tx2 = 1.00\tx3 = 3.00\t"
          ]
        },
        {
          "output_type": "stream",
          "name": "stderr",
          "text": [
            "<ipython-input-14-6e54abfe173c>:14: DeprecationWarning: Conversion of an array with ndim > 0 to a scalar is deprecated, and will error in future. Ensure you extract a single element from your array before performing this operation. (Deprecated NumPy 1.25.)\n",
            "  print('x%d = %0.2f' %(i,x[i]), end = '\\t')\n"
          ]
        }
      ]
    },
    {
      "cell_type": "code",
      "source": [
        "#4.จงหาคำตอบของระบบสมการในข้อ 2. โดยใช้ Cramer’s rule\n",
        "A = np.array([[1, 3, -1, 2],[2, -1, 3, -1],[1, 2, 4, 1],[0, 4, 1, 5]],float)\n",
        "B = np.array([[-1, 2, 3, 8]])\n",
        "print(\"4.\")\n",
        "print('Matrix A:')\n",
        "print(A)\n",
        "print('Matrix B:')\n",
        "print(B)\n",
        "detA = np.around(np.linalg.det(A),decimals=2)\n",
        "print('det A =',detA)\n",
        "\n",
        "def Cramer(A,B,i):\n",
        "  MAcopy = A[:,i].copy()\n",
        "  A[:,i] = B\n",
        "  print(\"Matrix A with a column of B\")\n",
        "  print(A)\n",
        "  x = np.linalg.det(A)\n",
        "  A[:,i] = MAcopy.copy()\n",
        "  return x\n",
        "if detA==0:\n",
        "  sys.exit(\"No solutions, det(A) is zero.\")\n",
        "else:\n",
        "  for i in range(A.shape[1]):\n",
        "    solutionX = np.around(Cramer(A,B,i)/detA,decimals=2)\n",
        "    print('X',i+1,'= ',solutionX)"
      ],
      "metadata": {
        "colab": {
          "base_uri": "https://localhost:8080/"
        },
        "id": "oxJMhEv25sLP",
        "outputId": "a89a1904-7c90-4f53-adb3-2ff760eca934"
      },
      "execution_count": null,
      "outputs": [
        {
          "output_type": "stream",
          "name": "stdout",
          "text": [
            "4.\n",
            "Matrix A:\n",
            "[[ 1.  3. -1.  2.]\n",
            " [ 2. -1.  3. -1.]\n",
            " [ 1.  2.  4.  1.]\n",
            " [ 0.  4.  1.  5.]]\n",
            "Matrix B:\n",
            "[[-1  2  3  8]]\n",
            "det A = -72.0\n",
            "Matrix A with a column of B\n",
            "[[-1.  3. -1.  2.]\n",
            " [ 2. -1.  3. -1.]\n",
            " [ 3.  2.  4.  1.]\n",
            " [ 8.  4.  1.  5.]]\n",
            "X 1 =  -0.0\n",
            "Matrix A with a column of B\n",
            "[[ 1. -1. -1.  2.]\n",
            " [ 2.  2.  3. -1.]\n",
            " [ 1.  3.  4.  1.]\n",
            " [ 0.  8.  1.  5.]]\n",
            "X 2 =  -2.0\n",
            "Matrix A with a column of B\n",
            "[[ 1.  3. -1.  2.]\n",
            " [ 2. -1.  2. -1.]\n",
            " [ 1.  2.  3.  1.]\n",
            " [ 0.  4.  8.  5.]]\n",
            "X 3 =  1.0\n",
            "Matrix A with a column of B\n",
            "[[ 1.  3. -1. -1.]\n",
            " [ 2. -1.  3.  2.]\n",
            " [ 1.  2.  4.  3.]\n",
            " [ 0.  4.  1.  8.]]\n",
            "X 4 =  3.0\n"
          ]
        }
      ]
    },
    {
      "cell_type": "code",
      "source": [
        "#5.จงหาคำตอบของระบบสมการในข้อ 2. โดยใช้ Gaussian Elimination\n",
        "import numpy as np\n",
        "A = np.array([[1, 3, -1, 2],[2, -1, 3, -1],[1, 2, 4, 1],[0, 4, 1, 5]],float)\n",
        "B = np.array([[-1],[2],[3],[8]])\n",
        "print('5.')\n",
        "print('Matrix A:')\n",
        "print(A)\n",
        "n=A.shape[1]\n",
        "AB = np.hstack([A,B])\n",
        "print('Matrix [A:B]:')\n",
        "print(AB)\n",
        "\n",
        "def switch_rows(A,i,j):\n",
        "  A[[i, j]] = A[[j, i]]\n",
        "  return A\n",
        "\n",
        "def scale_row(A,k,i):\n",
        "  A[i] = k * A[i]\n",
        "  return A\n",
        "\n",
        "def add_row(A,k,i,j):\n",
        "  A[i] += k * A[j]\n",
        "  return A"
      ],
      "metadata": {
        "colab": {
          "base_uri": "https://localhost:8080/"
        },
        "id": "lKyXk8Bn5tK0",
        "outputId": "a9fb37bb-4e1c-48f9-9e8e-5a63ecab918c"
      },
      "execution_count": null,
      "outputs": [
        {
          "output_type": "stream",
          "name": "stdout",
          "text": [
            "5.\n",
            "Matrix A:\n",
            "[[ 1.  3. -1.  2.]\n",
            " [ 2. -1.  3. -1.]\n",
            " [ 1.  2.  4.  1.]\n",
            " [ 0.  4.  1.  5.]]\n",
            "Matrix [A:B]:\n",
            "[[ 1.  3. -1.  2. -1.]\n",
            " [ 2. -1.  3. -1.  2.]\n",
            " [ 1.  2.  4.  1.  3.]\n",
            " [ 0.  4.  1.  5.  8.]]\n"
          ]
        }
      ]
    },
    {
      "cell_type": "code",
      "source": [
        "#เปลี่ยน a12(2), a13(1) = 0 โดย R2->R2-2R1 ; R3->R3-1R1\n",
        "A1 = add_row(AB,-2,1,0)\n",
        "A1 = add_row(A1,-1,2,0)\n",
        "print('#1 Matrix [A:B]:')\n",
        "print(A1)"
      ],
      "metadata": {
        "colab": {
          "base_uri": "https://localhost:8080/"
        },
        "id": "5LcIH5wL6yEV",
        "outputId": "d971c534-30a6-4a7b-c867-919853cd040b"
      },
      "execution_count": null,
      "outputs": [
        {
          "output_type": "stream",
          "name": "stdout",
          "text": [
            "#1 Matrix [A:B]:\n",
            "[[ 1.  3. -1.  2. -1.]\n",
            " [ 0. -7.  5. -5.  4.]\n",
            " [ 0. -1.  5. -1.  4.]\n",
            " [ 0.  4.  1.  5.  8.]]\n"
          ]
        }
      ]
    },
    {
      "cell_type": "code",
      "source": [
        "#สลับแถว R2 <-> R3\n",
        "A2 = switch_rows(A1,1,2)\n",
        "print('#2 Matrix [A:B]:')\n",
        "print(A2)"
      ],
      "metadata": {
        "colab": {
          "base_uri": "https://localhost:8080/"
        },
        "id": "33s5wj678Mm8",
        "outputId": "64c61443-4b76-4d2c-ebd7-24db5d2acab9"
      },
      "execution_count": null,
      "outputs": [
        {
          "output_type": "stream",
          "name": "stdout",
          "text": [
            "#2 Matrix [A:B]:\n",
            "[[ 1.  3. -1.  2. -1.]\n",
            " [ 0. -1.  5. -1.  4.]\n",
            " [ 0. -7.  5. -5.  4.]\n",
            " [ 0.  4.  1.  5.  8.]]\n"
          ]
        }
      ]
    },
    {
      "cell_type": "code",
      "source": [
        "#เปลี่ยน a12(-1) = 1 โดย R2-> -1R2\n",
        "A3 = scale_row(A2,-1,1)\n",
        "print('#3 Matrix [A:B]:')\n",
        "print(A3)"
      ],
      "metadata": {
        "colab": {
          "base_uri": "https://localhost:8080/"
        },
        "id": "QfUVqCCV8Oc9",
        "outputId": "153556ff-f04b-4b98-ee25-785b6340532d"
      },
      "execution_count": null,
      "outputs": [
        {
          "output_type": "stream",
          "name": "stdout",
          "text": [
            "#3 Matrix [A:B]:\n",
            "[[ 1.  3. -1.  2. -1.]\n",
            " [-0.  1. -5.  1. -4.]\n",
            " [ 0. -7.  5. -5.  4.]\n",
            " [ 0.  4.  1.  5.  8.]]\n"
          ]
        }
      ]
    },
    {
      "cell_type": "code",
      "source": [
        "#เปลี่ยน a32(-7), a42(4) = 0 โดย R3-> R3+7R2 / R4-> R4-4R2\n",
        "A4 = add_row(A3,7,2,1)\n",
        "A4 = add_row(A4,-4,3,1)\n",
        "print('#4 Matrix [A:B]:')\n",
        "print(A4)"
      ],
      "metadata": {
        "colab": {
          "base_uri": "https://localhost:8080/"
        },
        "id": "_uytx1zn8kLO",
        "outputId": "d966e590-acab-4384-9a48-d2cb1f435a31"
      },
      "execution_count": null,
      "outputs": [
        {
          "output_type": "stream",
          "name": "stdout",
          "text": [
            "#4 Matrix [A:B]:\n",
            "[[  1.   3.  -1.   2.  -1.]\n",
            " [ -0.   1.  -5.   1.  -4.]\n",
            " [  0.   0. -30.   2. -24.]\n",
            " [  0.   0.  21.   1.  24.]]\n"
          ]
        }
      ]
    },
    {
      "cell_type": "code",
      "source": [
        "#เปลี่ยน a33(-30) = 1 โดย R3-> -1/30R3\n",
        "A5 = scale_row(A4,1/-30,2)\n",
        "print('#5 Matrix [A:B]:')\n",
        "print(A5)"
      ],
      "metadata": {
        "colab": {
          "base_uri": "https://localhost:8080/"
        },
        "id": "c0KW-Gww9KKO",
        "outputId": "0def2d86-c66c-4c2c-cf40-5d3e3ad2f3bf"
      },
      "execution_count": null,
      "outputs": [
        {
          "output_type": "stream",
          "name": "stdout",
          "text": [
            "#5 Matrix [A:B]:\n",
            "[[ 1.          3.         -1.          2.         -1.        ]\n",
            " [-0.          1.         -5.          1.         -4.        ]\n",
            " [-0.         -0.          1.         -0.06666667  0.8       ]\n",
            " [ 0.          0.         21.          1.         24.        ]]\n"
          ]
        }
      ]
    },
    {
      "cell_type": "code",
      "source": [
        "#เปลี่ยน a43(21) = 0 โดย R4=> R4-21R3\n",
        "A6 = add_row(A5,-21,3,2)\n",
        "print('#6 Matrix [A:B]:')\n",
        "print(A6)"
      ],
      "metadata": {
        "colab": {
          "base_uri": "https://localhost:8080/"
        },
        "id": "Bjl0S9fe9rr_",
        "outputId": "11dc6e64-b763-4f29-8506-dc3254b0b157"
      },
      "execution_count": null,
      "outputs": [
        {
          "output_type": "stream",
          "name": "stdout",
          "text": [
            "#6 Matrix [A:B]:\n",
            "[[ 1.          3.         -1.          2.         -1.        ]\n",
            " [-0.          1.         -5.          1.         -4.        ]\n",
            " [-0.         -0.          1.         -0.06666667  0.8       ]\n",
            " [ 0.          0.          0.          2.4         7.2       ]]\n"
          ]
        }
      ]
    },
    {
      "cell_type": "code",
      "source": [
        "#เปลี่ยน a44(2.4) = 1 โดย R4=> 1/4R4\n",
        "A7 = scale_row(A4,1/2.4,3)\n",
        "print('#7 Matrix [A:B]:')\n",
        "print(A7)"
      ],
      "metadata": {
        "id": "Pi5geTylLCzD",
        "colab": {
          "base_uri": "https://localhost:8080/"
        },
        "outputId": "1ea3920d-a7a1-4053-a03f-5c45ddd86d3c"
      },
      "execution_count": null,
      "outputs": [
        {
          "output_type": "stream",
          "name": "stdout",
          "text": [
            "#7 Matrix [A:B]:\n",
            "[[ 1.          3.         -1.          2.         -1.        ]\n",
            " [-0.          1.         -5.          1.         -4.        ]\n",
            " [-0.         -0.          1.         -0.06666667  0.8       ]\n",
            " [ 0.          0.          0.          1.          3.        ]]\n"
          ]
        }
      ]
    },
    {
      "cell_type": "code",
      "source": [
        "a = A7\n",
        "n = A.shape[1]\n",
        "x = np.zeros(n)\n",
        "\n",
        "x[n-1] = a[n-1][n]/a[n-1][n-1]\n",
        "for i in range(n-2,-1,-1):\n",
        "  x[i] = a[i][n]\n",
        "  for j in range(i+1,n):\n",
        "    x[i] = x[i] - a[i][j]*x[j]\n",
        "  x[i] = x[i]/a[i][i]\n",
        "\n",
        "print('Solution is: ')\n",
        "for i in range(n):\n",
        "  print('x%d = %0.2f' %(i,x[i]), end = '\\t')"
      ],
      "metadata": {
        "colab": {
          "base_uri": "https://localhost:8080/"
        },
        "id": "D_1c-MUn987G",
        "outputId": "71333d19-d004-487e-e23b-4c3d97cb1ec9"
      },
      "execution_count": null,
      "outputs": [
        {
          "output_type": "stream",
          "name": "stdout",
          "text": [
            "Solution is: \n",
            "x0 = 0.00\tx1 = -2.00\tx2 = 1.00\tx3 = 3.00\t"
          ]
        }
      ]
    }
  ]
}