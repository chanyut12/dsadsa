{
  "nbformat": 4,
  "nbformat_minor": 0,
  "metadata": {
    "colab": {
      "provenance": [],
      "include_colab_link": true
    },
    "kernelspec": {
      "name": "python3",
      "display_name": "Python 3"
    },
    "language_info": {
      "name": "python"
    }
  },
  "cells": [
    {
      "cell_type": "markdown",
      "metadata": {
        "id": "view-in-github",
        "colab_type": "text"
      },
      "source": [
        "<a href=\"https://colab.research.google.com/github/chanyut12/mathforcom/blob/main/%E0%B8%AA%E0%B8%B3%E0%B9%80%E0%B8%99%E0%B8%B2%E0%B8%82%E0%B8%AD%E0%B8%87_21066_G2_w2.ipynb\" target=\"_parent\"><img src=\"https://colab.research.google.com/assets/colab-badge.svg\" alt=\"Open In Colab\"/></a>"
      ]
    },
    {
      "cell_type": "markdown",
      "metadata": {
        "id": "KUuucA2sqZ3j"
      },
      "source": [
        "**ให้นิสิต เลือกเมนู File-->Save a copy in drive เพื่อคัดลอกไฟล์ไปไว้ในไดร์ฟของนิสิตก่อน และเปลี่ยนชื่อไฟล์เป็น รหัสนิสิต_week2.ipynb ก่อนส่งงานค่ะ**\n",
        "\n",
        "1.จงสร้างเมทริกซ์     \n",
        "A =\n",
        "\\begin{bmatrix}\n",
        "3 & 5  \\\\\n",
        "-1 & 0\n",
        "\\end{bmatrix},\n",
        "B =\n",
        "\\begin{bmatrix}\n",
        "8 & 4  \\\\\n",
        "2 & 1\n",
        "\\end{bmatrix}\n",
        "และ\n",
        "\n",
        "C =\n",
        "\\begin{bmatrix}\n",
        "0 & 7  \\\\\n",
        "1 & -5\n",
        "\\end{bmatrix}\n",
        "โดยใช้ Python\n",
        "\n",
        "1.1\tจงหา det(A), det(B) และ det(C)\n",
        "\n",
        "1.2 จงตรวจสอบว่าเมทริกซ์ B เป็นเมทริกซ์เอกฐาน หรือไม่ ถ้าเป็นแสดงข้อความ Singular matrix. ถ้าไม่เป็น จงหาผกผันของเมทริกซ์ B\n",
        "\n",
        "1.3  จงตรวจสอบว่า det(3C) = det(3C)$^{T}$ หรือไม่\n",
        "ถ้าเท่าให้แสดงข้อความ Yes ไม่เท่าแสดงข้อความ No\n",
        "\n",
        "1.4 จงตรวจสอบว่า det(A) = det(A$^{-1}$) หรือไม่\n",
        "ถ้าเท่าให้แสดงข้อความ Yes ไม่เท่าแสดงข้อความ No\n",
        "\n",
        "1.5\tจงตรวจสอบว่า det(AC) = det(A)*det(C) หรือไม่\n",
        "ถ้าเท่าให้แสดงข้อความ Yes ไม่เท่าแสดงข้อความ No\n",
        "\n",
        "\n",
        "2. จงสร้างเมทริกซ์   \n",
        "\n",
        "A =\n",
        "\\begin{bmatrix}\n",
        "1 & 4 & 1  \\\\\n",
        "5 & -1 & 5  \\\\\n",
        "0 & 3 & 0\n",
        "\\end{bmatrix}\n",
        "และ\n",
        "\n",
        "B =\n",
        "\\begin{bmatrix}\n",
        "0 & 1 & 3  \\\\\n",
        "0 & -2 & 5  \\\\\n",
        "4 & -1 & 5\n",
        "\\end{bmatrix}\n",
        "\n",
        "โดยใช้ Python\n",
        "\n",
        "2.1 จงตรวจสอบว่า $det(A^{-1}) = \\frac{1}{det(A^T)}$ หรือไม่  ถ้าเท่าให้แสดงข้อความ Yes ถ้าไม่เท่าแสดงข้อความ No\n",
        "\n",
        "2.2 จงตรวจสอบว่า $(2B)^{-1} = 2^{-1}B^{-1}$ หรือไม่  ถ้าเท่าให้แสดงข้อความ Yes ถ้าไม่เท่าแสดงข้อความ No\n",
        "\n",
        "2.3 จงหาค่า $M_{13}$ และ $C_{13}$ ของเมทริกซ์ A\n",
        "\n",
        "2.4\tจงหาเมทริกซ์ไมเนอร์ (Minor matrix: M(B)), เมทริกซ์โคแฟคเตอร์ (Cofactor matrix: Cof(B)) และเมทริกซ์ผูกพัน(Adjoint matrix: Adj(B))\n",
        "\n",
        "2.5 จงหาค่าของ $Adj(BA)$ และ $Adj(A)Adj(B)$ แสดงผลออกทางหน้าจอ และตรวจสอบว่า $Adj(BA) = Adj(A)Adj(B)$ หรือไม่ ถ้าเท่าให้แสดงข้อความ Yes ถ้าไม่เท่าแสดงข้อความ No\n"
      ]
    },
    {
      "cell_type": "code",
      "source": [
        "#ชื่อ......................................รหัส................"
      ],
      "metadata": {
        "id": "e3AAdx4GTqEB"
      },
      "execution_count": null,
      "outputs": []
    },
    {
      "cell_type": "code",
      "source": [
        "import numpy as np"
      ],
      "metadata": {
        "id": "_3gw07fgtHrq"
      },
      "execution_count": 2,
      "outputs": []
    },
    {
      "cell_type": "code",
      "source": [
        "#1.\n",
        "A = [[3,5],[-1,0]]\n",
        "B = [[8,4],[2,1]]\n",
        "C = [[0,7],[1,-5]]\n"
      ],
      "metadata": {
        "id": "dTFYgi7hs6-I"
      },
      "execution_count": 33,
      "outputs": []
    },
    {
      "cell_type": "code",
      "source": [
        "A = np.array(A)\n",
        "B = np.array(B)\n",
        "C = np.array(C)"
      ],
      "metadata": {
        "id": "nQoy5_v-tF0a"
      },
      "execution_count": 34,
      "outputs": []
    },
    {
      "cell_type": "code",
      "source": [
        "#1.1 จงหา det(A), det(B) และ det(C)\n",
        "print(\"det(A) = \",np.around(np.linalg.det(A),decimals=2))\n",
        "print(\"det(B) = \",np.around(np.linalg.det(B),decimals=2))\n",
        "print(\"det(C) = \",np.around(np.linalg.det(C),decimals=2))\n",
        "# print(np.linalg.det(A)) -> 5.000000000000000000000000001"
      ],
      "metadata": {
        "colab": {
          "base_uri": "https://localhost:8080/"
        },
        "id": "4ZESvOHotMa0",
        "outputId": "63648b4d-7aae-4e13-bb02-b13360585c35"
      },
      "execution_count": 12,
      "outputs": [
        {
          "output_type": "stream",
          "name": "stdout",
          "text": [
            "det(A) =  5.0\n",
            "det(B) =  0.0\n",
            "det(C) =  -7.0\n",
            "5.000000000000001\n"
          ]
        }
      ]
    },
    {
      "cell_type": "code",
      "source": [
        "#1.2 จงตรวจสอบว่าเมทริกซ์ B เป็นเมทริกซ์เอกฐาน หรือไม่ ถ้าเป็นแสดงข้อความ Singular matrix. ถ้าไม่เป็น จงหาผกผันของเมทริกซ์ B\n",
        "if(np.linalg.det(B)==0):\n",
        "  print(\"Singular matrix\")\n",
        "else:\n",
        "  print(np.linalg.inv(B))\n",
        "\n",
        "\n",
        "  #if det==0\n",
        "# if np.isclose(np.linalg.det(B),0):\n",
        "#   print(\"Singular matrix\")\n",
        "# else:\n",
        "#   print(np.linalg.inv(B))"
      ],
      "metadata": {
        "colab": {
          "base_uri": "https://localhost:8080/"
        },
        "id": "0f0AUPnstewI",
        "outputId": "c4d8280e-b633-48da-dd1d-fc744e0d8551"
      },
      "execution_count": 23,
      "outputs": [
        {
          "output_type": "stream",
          "name": "stdout",
          "text": [
            "Singular matrix\n"
          ]
        }
      ]
    },
    {
      "cell_type": "code",
      "source": [
        "#1.3 จงตรวจสอบว่า det(3C) = det(3C) T  หรือไม่ ถ้าเท่าให้แสดงข้อความ Yes ไม่เท่าแสดงข้อความ No\n",
        "if(np.linalg.det(3*C)==np.linalg.det(3*C).T):\n",
        "  print(\"Yes\")\n",
        "else:\n",
        "  print(\"No\")"
      ],
      "metadata": {
        "colab": {
          "base_uri": "https://localhost:8080/"
        },
        "id": "ljLhTRtEtq-D",
        "outputId": "00e55639-309b-4613-c551-d2ad5455962d"
      },
      "execution_count": 10,
      "outputs": [
        {
          "output_type": "stream",
          "name": "stdout",
          "text": [
            "Yes\n"
          ]
        }
      ]
    },
    {
      "cell_type": "code",
      "source": [
        "#1.4 จงตรวจสอบว่า det(A) = det(A −1 ) หรือไม่ ถ้าเท่าให้แสดงข้อความ Yes ไม่เท่าแสดงข้อความ No\n",
        "if(np.linalg.det(A)==np.linalg.det(np.linalg.inv(A))):\n",
        "  print(\"Yes\")\n",
        "else:\n",
        "  print(\"No\")"
      ],
      "metadata": {
        "colab": {
          "base_uri": "https://localhost:8080/"
        },
        "id": "bPWDAusIusPe",
        "outputId": "4f5eae55-583e-4533-bc40-e7d6dc47eea7"
      },
      "execution_count": 36,
      "outputs": [
        {
          "output_type": "stream",
          "name": "stdout",
          "text": [
            "No\n"
          ]
        }
      ]
    },
    {
      "cell_type": "code",
      "source": [
        "#1.5 จงตรวจสอบว่า det(AC) = det(A)*det(C) หรือไม่ ถ้าเท่าให้แสดงข้อความ Yes ไม่เท่าแสดงข้อความ No\n",
        "print(np.around(np.linalg.det(A@C),decimals=2))\n",
        "print(np.around(np.linalg.det(A)*np.linalg.det(C),decimals=2))\n",
        "if(np.around(np.linalg.det(A@C),decimals=2)==np.around(np.linalg.det(A)*np.linalg.det(C),decimals=2)):\n",
        "  print(\"Yes\")\n",
        "else:\n",
        "  print(\"No\")"
      ],
      "metadata": {
        "colab": {
          "base_uri": "https://localhost:8080/"
        },
        "id": "LpHx2Q0QvAFp",
        "outputId": "a786c761-8a01-4dea-ac5a-0850e55fb2c1"
      },
      "execution_count": 38,
      "outputs": [
        {
          "output_type": "stream",
          "name": "stdout",
          "text": [
            "-35.0\n",
            "-35.0\n",
            "Yes\n"
          ]
        }
      ]
    },
    {
      "cell_type": "code",
      "source": [
        "#2.\n",
        "A = [[1,4,1],[5,-1,5],[0,3,0]]\n",
        "B = [[0,1,3],[0,-2,5],[4,-1,5]]\n",
        "\n",
        "A = np.array(A)\n",
        "B = np.array(B)"
      ],
      "metadata": {
        "id": "9E6uMazOv0ql"
      },
      "execution_count": 57,
      "outputs": []
    },
    {
      "cell_type": "code",
      "source": [
        "#2.1 จงตรวจสอบว่า  det(A−1)=1det(AT)  หรือไม่ ถ้าเท่าให้แสดงข้อความ Yes ถ้าไม่เท่าแสดงข้อความ No\n",
        "if(np.linalg.det(A) != 0):\n",
        "  if(np.linalg.det(np.linalg.inv(A))==1/np.linalg.det(A).T):\n",
        "    print(\"Yes\")\n",
        "  else:\n",
        "    print(\"No\")\n",
        "else:\n",
        "  print(\"This is singular matrix\")"
      ],
      "metadata": {
        "colab": {
          "base_uri": "https://localhost:8080/"
        },
        "id": "kYq8wkHHv7WP",
        "outputId": "db0d4d5c-d4ae-49e7-e58c-156c0e80042b"
      },
      "execution_count": 27,
      "outputs": [
        {
          "output_type": "stream",
          "name": "stdout",
          "text": [
            "This is singular matrix\n"
          ]
        }
      ]
    },
    {
      "cell_type": "code",
      "source": [
        "#add\n"
      ],
      "metadata": {
        "id": "T8Oq5Xcj3xHe"
      },
      "execution_count": null,
      "outputs": []
    },
    {
      "cell_type": "code",
      "source": [
        "#2.2 จงตรวจสอบว่า  (2B)−1=2−1B−1  หรือไม่ ถ้าเท่าให้แสดงข้อความ Yes ถ้าไม่เท่าแสดงข้อความ No\n",
        "# matrix2B = 2*B\n",
        "# print(matrix2B)\n",
        "inverse_of_matrix_2B = np.around(np.linalg.inv(matrix2B), decimals = 2)\n",
        "print(inverse_of_matrix_2B)\n",
        "matrixB_inverse = np.around((0.5)*np.linalg.inv(B), decimals=2)\n",
        "print(matrixB_inverse)\n",
        "\n",
        "\n",
        "if(np.array_equal(inverse_of_matrix_2B,matrixB_inverse)):\n",
        "  print(\"Yes\")\n",
        "else:\n",
        "  print(\"No\")"
      ],
      "metadata": {
        "colab": {
          "base_uri": "https://localhost:8080/"
        },
        "id": "EmjPZ6KGyuv8",
        "outputId": "539ca86d-ce8c-4416-82bc-651488fef7d0"
      },
      "execution_count": 50,
      "outputs": [
        {
          "output_type": "stream",
          "name": "stdout",
          "text": [
            "[[ 0  2  6]\n",
            " [ 0 -4 10]\n",
            " [ 8 -2 10]]\n",
            "[[-0.06 -0.09  0.12]\n",
            " [ 0.23 -0.14 -0.  ]\n",
            " [ 0.09  0.05  0.  ]]\n",
            "[[-0.06 -0.09  0.12]\n",
            " [ 0.23 -0.14 -0.  ]\n",
            " [ 0.09  0.05  0.  ]]\n",
            "Yes\n"
          ]
        }
      ]
    },
    {
      "cell_type": "code",
      "source": [
        "#2.3 จงหาค่า M13 และ C13 ของเมทริกซ์ A\n",
        "def minor_of_element(A,i,j):\n",
        "    sub_A = np.delete(A,i-1,0)\n",
        "    sub_A = np.delete(sub_A,j-1,1)\n",
        "    M_ij = np.linalg.det(sub_A)\n",
        "    return np.around(M_ij,decimals=2)\n",
        "\n",
        "\n",
        "def cofactors_of_element(A,i,j):\n",
        "  C_ij = pow(-1,i+j)*minor_of_element(A,i,j)\n",
        "  return C_ij\n",
        "\n",
        "\n",
        "print('Matrix A:')\n",
        "print(A)\n",
        "i = int(input('Enter row no. :'))\n",
        "j = int(input('Enter column no. :'))\n",
        "print('M(%d,%d) = ' %(i,j),minor_of_element(A,i,j))\n",
        "print('C(%d,%d) = ' %(i,j),cofactors_of_element(A,i,j))\n"
      ],
      "metadata": {
        "colab": {
          "base_uri": "https://localhost:8080/"
        },
        "id": "y0aZ2R5KyFUP",
        "outputId": "e71fa113-bc24-48fd-e2a2-a2e40102c7e2"
      },
      "execution_count": 30,
      "outputs": [
        {
          "output_type": "stream",
          "name": "stdout",
          "text": [
            "Matrix A:\n",
            "[[ 1  4  1]\n",
            " [ 5 -1  5]\n",
            " [ 0  3  0]]\n",
            "Enter row no. :1\n",
            "Enter column no. :3\n",
            "M(1,3) =  15.0\n",
            "C(1,3) =  15.0\n"
          ]
        }
      ]
    },
    {
      "cell_type": "code",
      "source": [
        "#2.4 จงหาเมทริกซ์ไมเนอร์ (Minor matrix: M(B)), เมทริกซ์โคแฟคเตอร์ (Cofactor matrix: Cof(B)) และเมทริกซ์ผูกพัน(Adjoint matrix: Adj(B))\n",
        "B = [[0,1,3],[0,-2,5],[4,-1,5]]\n",
        "B = np.array(B)\n",
        "import numpy as np\n",
        "\n",
        "\n",
        "def minor_of_element(A,i,j):\n",
        "  sub_A = np.delete(A,i-1,0)\n",
        "  sub_A = np.delete(sub_A,j-1,1)\n",
        "  M_ij = np.linalg.det(sub_A)\n",
        "  return np.around(M_ij,decimals=2)\n",
        "\n",
        "def minor_matrix(A):\n",
        "  m = A.shape[0]\n",
        "  M_A = np.zeros([m,m])\n",
        "  for i in range(1,m+1):\n",
        "    for j in range(1,m+1):\n",
        "      M_A[i-1,j-1] = minor_of_element(A,i,j)\n",
        "  return M_A\n",
        "\n",
        "def cofactor_matrix(A):\n",
        "  m = np.shape(A)[0]\n",
        "  C_A = np.zeros([m,m])\n",
        "  for i in range(1,m+1):\n",
        "    for j in range(1,m+1):\n",
        "      C_A[i-1,j-1] = pow(-1,i+j)*minor_of_element(A,i,j)\n",
        "  return C_A\n",
        "\n",
        "\n",
        "def matrix_adj(matrix):\n",
        "  return np.linalg.inv(matrix)*np.linalg.det(matrix)\n",
        "\n",
        "print('Matrix B:')\n",
        "print(B)\n",
        "print('Minor Matrix of B:')\n",
        "print(minor_matrix(A))\n",
        "print('Cofactor Matrix of B:')\n",
        "print(cofactor_matrix(A))\n",
        "print(\"Adj matrix of B\")\n",
        "print(matrix_adj(B))\n",
        "# print('Det A=',np.around(np.linalg.det(A),decimals=2))\n",
        "\n",
        "# Summ = cofactor_matrix(A)*A[0]\n",
        "# print('Det A=',Summ.sum())"
      ],
      "metadata": {
        "colab": {
          "base_uri": "https://localhost:8080/"
        },
        "id": "ucXyDRswzuDP",
        "outputId": "0abd7db7-3f7e-4a61-f979-ceeeff23d37b"
      },
      "execution_count": 43,
      "outputs": [
        {
          "output_type": "stream",
          "name": "stdout",
          "text": [
            "Matrix B:\n",
            "[[ 0  1  3]\n",
            " [ 0 -2  5]\n",
            " [ 4 -1  5]]\n",
            "Minor Matrix of B:\n",
            "[[-15.   0.  15.]\n",
            " [ -3.   0.   3.]\n",
            " [ 21.   0. -21.]]\n",
            "Cofactor Matrix of B:\n",
            "[[-15.  -0.  15.]\n",
            " [  3.   0.  -3.]\n",
            " [ 21.  -0. -21.]]\n",
            "Adj matrix of B\n",
            "[[ -5.  -8.  11.]\n",
            " [ 20. -12.  -0.]\n",
            " [  8.   4.   0.]]\n"
          ]
        }
      ]
    },
    {
      "cell_type": "code",
      "source": [
        "#2.5 จงหาค่าของ  Adj(BA)  และ  Adj(A)Adj(B)  แสดงผลออกทางหน้าจอ และตรวจสอบว่า  Adj(BA)=Adj(A)Adj(B)  หรือไม่ ถ้าเท่าให้แสดงข้อความ Yes ถ้าไม่เท่าแสดงข้อความ No\n",
        "\n",
        "def matrix_adj(matrix):\n",
        "  return np.linalg.inv(matrix) * np.linalg.det(matrix)\n",
        "\n",
        "adj_BA = matrix_adj(A@B)\n",
        "adj_A =  matrix_adj(A)\n",
        "adj_B =  matrix_adj(B)\n",
        "print(\"Adj(BA) = \",adj_BA)\n",
        "print(\"Adj(A)Adj(B) = \",adj_A@adj_B)\n"
      ],
      "metadata": {
        "colab": {
          "base_uri": "https://localhost:8080/",
          "height": 367
        },
        "id": "42dt3P5015Dj",
        "outputId": "e56721c9-1ca1-44f3-a50e-0cef1a6e37fc"
      },
      "execution_count": 58,
      "outputs": [
        {
          "output_type": "error",
          "ename": "LinAlgError",
          "evalue": "Singular matrix",
          "traceback": [
            "\u001b[0;31m---------------------------------------------------------------------------\u001b[0m",
            "\u001b[0;31mLinAlgError\u001b[0m                               Traceback (most recent call last)",
            "\u001b[0;32m<ipython-input-58-2580dccd7cfe>\u001b[0m in \u001b[0;36m<cell line: 7>\u001b[0;34m()\u001b[0m\n\u001b[1;32m      5\u001b[0m \u001b[0;34m\u001b[0m\u001b[0m\n\u001b[1;32m      6\u001b[0m \u001b[0madj_BA\u001b[0m \u001b[0;34m=\u001b[0m \u001b[0mmatrix_adj\u001b[0m\u001b[0;34m(\u001b[0m\u001b[0mA\u001b[0m\u001b[0;34m@\u001b[0m\u001b[0mB\u001b[0m\u001b[0;34m)\u001b[0m\u001b[0;34m\u001b[0m\u001b[0;34m\u001b[0m\u001b[0m\n\u001b[0;32m----> 7\u001b[0;31m \u001b[0madj_A\u001b[0m \u001b[0;34m=\u001b[0m  \u001b[0mmatrix_adj\u001b[0m\u001b[0;34m(\u001b[0m\u001b[0mA\u001b[0m\u001b[0;34m)\u001b[0m\u001b[0;34m\u001b[0m\u001b[0;34m\u001b[0m\u001b[0m\n\u001b[0m\u001b[1;32m      8\u001b[0m \u001b[0madj_B\u001b[0m \u001b[0;34m=\u001b[0m  \u001b[0mmatrix_adj\u001b[0m\u001b[0;34m(\u001b[0m\u001b[0mB\u001b[0m\u001b[0;34m)\u001b[0m\u001b[0;34m\u001b[0m\u001b[0;34m\u001b[0m\u001b[0m\n\u001b[1;32m      9\u001b[0m \u001b[0mprint\u001b[0m\u001b[0;34m(\u001b[0m\u001b[0;34m\"Adj(BA) = \"\u001b[0m\u001b[0;34m,\u001b[0m\u001b[0madj_BA\u001b[0m\u001b[0;34m)\u001b[0m\u001b[0;34m\u001b[0m\u001b[0;34m\u001b[0m\u001b[0m\n",
            "\u001b[0;32m<ipython-input-58-2580dccd7cfe>\u001b[0m in \u001b[0;36mmatrix_adj\u001b[0;34m(matrix)\u001b[0m\n\u001b[1;32m      2\u001b[0m \u001b[0;34m\u001b[0m\u001b[0m\n\u001b[1;32m      3\u001b[0m \u001b[0;32mdef\u001b[0m \u001b[0mmatrix_adj\u001b[0m\u001b[0;34m(\u001b[0m\u001b[0mmatrix\u001b[0m\u001b[0;34m)\u001b[0m\u001b[0;34m:\u001b[0m\u001b[0;34m\u001b[0m\u001b[0;34m\u001b[0m\u001b[0m\n\u001b[0;32m----> 4\u001b[0;31m   \u001b[0;32mreturn\u001b[0m \u001b[0mnp\u001b[0m\u001b[0;34m.\u001b[0m\u001b[0mlinalg\u001b[0m\u001b[0;34m.\u001b[0m\u001b[0minv\u001b[0m\u001b[0;34m(\u001b[0m\u001b[0mmatrix\u001b[0m\u001b[0;34m)\u001b[0m \u001b[0;34m*\u001b[0m \u001b[0mnp\u001b[0m\u001b[0;34m.\u001b[0m\u001b[0mlinalg\u001b[0m\u001b[0;34m.\u001b[0m\u001b[0mdet\u001b[0m\u001b[0;34m(\u001b[0m\u001b[0mmatrix\u001b[0m\u001b[0;34m)\u001b[0m\u001b[0;34m\u001b[0m\u001b[0;34m\u001b[0m\u001b[0m\n\u001b[0m\u001b[1;32m      5\u001b[0m \u001b[0;34m\u001b[0m\u001b[0m\n\u001b[1;32m      6\u001b[0m \u001b[0madj_BA\u001b[0m \u001b[0;34m=\u001b[0m \u001b[0mmatrix_adj\u001b[0m\u001b[0;34m(\u001b[0m\u001b[0mA\u001b[0m\u001b[0;34m@\u001b[0m\u001b[0mB\u001b[0m\u001b[0;34m)\u001b[0m\u001b[0;34m\u001b[0m\u001b[0;34m\u001b[0m\u001b[0m\n",
            "\u001b[0;32m/usr/local/lib/python3.10/dist-packages/numpy/linalg/linalg.py\u001b[0m in \u001b[0;36minv\u001b[0;34m(a)\u001b[0m\n\u001b[1;32m    559\u001b[0m     \u001b[0msignature\u001b[0m \u001b[0;34m=\u001b[0m \u001b[0;34m'D->D'\u001b[0m \u001b[0;32mif\u001b[0m \u001b[0misComplexType\u001b[0m\u001b[0;34m(\u001b[0m\u001b[0mt\u001b[0m\u001b[0;34m)\u001b[0m \u001b[0;32melse\u001b[0m \u001b[0;34m'd->d'\u001b[0m\u001b[0;34m\u001b[0m\u001b[0;34m\u001b[0m\u001b[0m\n\u001b[1;32m    560\u001b[0m     \u001b[0mextobj\u001b[0m \u001b[0;34m=\u001b[0m \u001b[0mget_linalg_error_extobj\u001b[0m\u001b[0;34m(\u001b[0m\u001b[0m_raise_linalgerror_singular\u001b[0m\u001b[0;34m)\u001b[0m\u001b[0;34m\u001b[0m\u001b[0;34m\u001b[0m\u001b[0m\n\u001b[0;32m--> 561\u001b[0;31m     \u001b[0mainv\u001b[0m \u001b[0;34m=\u001b[0m \u001b[0m_umath_linalg\u001b[0m\u001b[0;34m.\u001b[0m\u001b[0minv\u001b[0m\u001b[0;34m(\u001b[0m\u001b[0ma\u001b[0m\u001b[0;34m,\u001b[0m \u001b[0msignature\u001b[0m\u001b[0;34m=\u001b[0m\u001b[0msignature\u001b[0m\u001b[0;34m,\u001b[0m \u001b[0mextobj\u001b[0m\u001b[0;34m=\u001b[0m\u001b[0mextobj\u001b[0m\u001b[0;34m)\u001b[0m\u001b[0;34m\u001b[0m\u001b[0;34m\u001b[0m\u001b[0m\n\u001b[0m\u001b[1;32m    562\u001b[0m     \u001b[0;32mreturn\u001b[0m \u001b[0mwrap\u001b[0m\u001b[0;34m(\u001b[0m\u001b[0mainv\u001b[0m\u001b[0;34m.\u001b[0m\u001b[0mastype\u001b[0m\u001b[0;34m(\u001b[0m\u001b[0mresult_t\u001b[0m\u001b[0;34m,\u001b[0m \u001b[0mcopy\u001b[0m\u001b[0;34m=\u001b[0m\u001b[0;32mFalse\u001b[0m\u001b[0;34m)\u001b[0m\u001b[0;34m)\u001b[0m\u001b[0;34m\u001b[0m\u001b[0;34m\u001b[0m\u001b[0m\n\u001b[1;32m    563\u001b[0m \u001b[0;34m\u001b[0m\u001b[0m\n",
            "\u001b[0;32m/usr/local/lib/python3.10/dist-packages/numpy/linalg/linalg.py\u001b[0m in \u001b[0;36m_raise_linalgerror_singular\u001b[0;34m(err, flag)\u001b[0m\n\u001b[1;32m    110\u001b[0m \u001b[0;34m\u001b[0m\u001b[0m\n\u001b[1;32m    111\u001b[0m \u001b[0;32mdef\u001b[0m \u001b[0m_raise_linalgerror_singular\u001b[0m\u001b[0;34m(\u001b[0m\u001b[0merr\u001b[0m\u001b[0;34m,\u001b[0m \u001b[0mflag\u001b[0m\u001b[0;34m)\u001b[0m\u001b[0;34m:\u001b[0m\u001b[0;34m\u001b[0m\u001b[0;34m\u001b[0m\u001b[0m\n\u001b[0;32m--> 112\u001b[0;31m     \u001b[0;32mraise\u001b[0m \u001b[0mLinAlgError\u001b[0m\u001b[0;34m(\u001b[0m\u001b[0;34m\"Singular matrix\"\u001b[0m\u001b[0;34m)\u001b[0m\u001b[0;34m\u001b[0m\u001b[0;34m\u001b[0m\u001b[0m\n\u001b[0m\u001b[1;32m    113\u001b[0m \u001b[0;34m\u001b[0m\u001b[0m\n\u001b[1;32m    114\u001b[0m \u001b[0;32mdef\u001b[0m \u001b[0m_raise_linalgerror_nonposdef\u001b[0m\u001b[0;34m(\u001b[0m\u001b[0merr\u001b[0m\u001b[0;34m,\u001b[0m \u001b[0mflag\u001b[0m\u001b[0;34m)\u001b[0m\u001b[0;34m:\u001b[0m\u001b[0;34m\u001b[0m\u001b[0;34m\u001b[0m\u001b[0m\n",
            "\u001b[0;31mLinAlgError\u001b[0m: Singular matrix"
          ]
        }
      ]
    }
  ]
}