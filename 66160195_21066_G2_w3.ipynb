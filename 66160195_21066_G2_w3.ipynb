{
  "nbformat": 4,
  "nbformat_minor": 0,
  "metadata": {
    "colab": {
      "provenance": [],
      "include_colab_link": true
    },
    "kernelspec": {
      "name": "python3",
      "display_name": "Python 3"
    },
    "language_info": {
      "name": "python"
    }
  },
  "cells": [
    {
      "cell_type": "markdown",
      "metadata": {
        "id": "view-in-github",
        "colab_type": "text"
      },
      "source": [
        "<a href=\"https://colab.research.google.com/github/chanyut12/mathforcom/blob/main/66160195_21066_G2_w3.ipynb\" target=\"_parent\"><img src=\"https://colab.research.google.com/assets/colab-badge.svg\" alt=\"Open In Colab\"/></a>"
      ]
    },
    {
      "cell_type": "markdown",
      "source": [
        "**การนับแถวเริ่มนับแถวที่ 0, 1, 2,...**\n",
        "**การนับคอลัมน์เริ่มนับคอลัมน์ที่ 0, 1, 2,...**"
      ],
      "metadata": {
        "id": "pzMnEbL0BNR0"
      }
    },
    {
      "cell_type": "markdown",
      "metadata": {
        "id": "dykmieOgFVGc"
      },
      "source": [
        "**ให้นิสิต เลือกเมนู File-->Save a copy in drive เพื่อคัดลอกไฟล์ไปไว้ในไดร์ฟของนิสิตก่อน และเปลี่ยนชื่อไฟล์เป็น รหัสนิสิต_week3.ipynb ก่อนส่งงานค่ะ**\n",
        "\n",
        "1. จงสร้างเมทริกซ์     \n",
        "A =\n",
        "\\begin{bmatrix}\n",
        "2 & -2 & 0   \\\\\n",
        "1 & 4 & -5   \\\\\n",
        "0 & 2 & 3   \\\\\n",
        "\\end{bmatrix}\n",
        "\n",
        "โดยใช้ Python\n",
        "\n",
        "1.1 จงตรวจสอบว่าเมทริกซ์ A เป็นเมทริกซ์เอกฐาน หรือไม่ ถ้าเป็นแสดงข้อความ Singular matrix.\n",
        "\n",
        "1.2 จงแปลงเมทริกซ์ A ให้เป็นเมทริกซ์เอ๊กซลอน (Echelon form matrix) โดยการดำเนินการตามแนวแถว (Elementary row oparation)\n",
        "\n",
        "\n",
        "\n",
        "1.3 จงหาเมทริกซ์ผกผัน (Inverse matrix) ของเมทริกซ์ A\n",
        "\n",
        "1.4 จงตรวจสอบเมทริกซ์ผลลัพธ์ที่ได้จากข้อ 1.3 ว่าถูกต้องหรือไม่ หากถูกต้องแสดงข้อความว่า Correct หากไม่ถูกต้องแสดงข้อความ Incorrect โดยหากไม่ถูกต้องจงแก้ไขให้ถูกต้องด้วย\n",
        "\n",
        "2.จงสร้างเมทริกซ์     \n",
        "A =\n",
        "\\begin{bmatrix}\n",
        "1 & 2 & 1  \\\\\n",
        "2 & -4 & 5  \\\\\n",
        "2 & 4 & 2\n",
        "\\end{bmatrix}\n",
        "โดยใช้ Python\n",
        "\n",
        "2.1\tจงหา det(A)\n",
        "\n",
        "2.2 จงหา Rank ของเมทริกซ์ที่กำหนดโดยใช้วิธีหาเมทริกซ์เอ็ซลอนลดรูปแบบแถว\n"
      ]
    },
    {
      "cell_type": "code",
      "source": [
        "#ชื่อ..............................รหัส................"
      ],
      "metadata": {
        "id": "fDeZd0X3AE97"
      },
      "execution_count": null,
      "outputs": []
    },
    {
      "cell_type": "code",
      "source": [
        "a = [[2,-2,0],[1,4,-5],[0,2,3]]"
      ],
      "metadata": {
        "id": "SBAd-BdhPyvv"
      },
      "execution_count": 2,
      "outputs": []
    },
    {
      "cell_type": "code",
      "source": [
        "#1.1 จงตรวจสอบว่าเมทริกซ์ A เป็นเมทริกซ์เอกฐาน หรือไม่ ถ้าเป็นแสดงข้อความ Singular matrix.\n",
        "import numpy as np\n",
        "if(np.linalg.det(a) == 0): # if  det = 0 cant find inverse\n",
        "  print(\"Singular matrix\")\n",
        "else:\n",
        "  print(\"Non Singular matrix\")"
      ],
      "metadata": {
        "colab": {
          "base_uri": "https://localhost:8080/"
        },
        "id": "p8wQ-wm2X1PE",
        "outputId": "60bf7c67-7416-4e41-df31-83159f60330c"
      },
      "execution_count": 3,
      "outputs": [
        {
          "output_type": "stream",
          "name": "stdout",
          "text": [
            "Non Singular matrix\n"
          ]
        }
      ]
    },
    {
      "cell_type": "code",
      "source": [
        "#1.2 จงแปลงเมทริกซ์ A ให้เป็นเมทริกซ์เอ๊กซลอน (Echelon form matrix) โดยการดำเนินการตามแนวแถว (Elementary row oparation)\n",
        "import numpy as np\n",
        "a = np.array([[2,-2,0],[1,4,-5],[0,2,3]])\n",
        "print('Matrix a:')\n",
        "print(a)\n",
        "n= a.shape[0]\n",
        "\n",
        "def switch_rows(A,i,j):\n",
        "  A[[i, j]] = A[[j, i]]\n",
        "  return A\n",
        "\n",
        "def scale_row(A,k,i):\n",
        "  A[i] = k * A[i]\n",
        "  return A\n",
        "\n",
        "def add_row(A,k,i,j):\n",
        "  A[i] += k * A[j]\n",
        "  return A\n",
        "\n",
        "a1 = scale_row(a,1/2,0) #R1/2\n",
        "print('#1 Matrix a:')\n",
        "print(a1)\n",
        "a2 = add_row(a1,-1,1,0) #R2-R1\n",
        "print('#2 Matrix A:')\n",
        "print(a2)\n",
        "a3 = scale_row(a2,(1/5),1) #R2/(1/5)\n",
        "print('#3 Matrix a:')\n",
        "print(a3)\n",
        "a4 = add_row(a3,-2,2,1) #R3-R2\n",
        "print('#4 Matrix A:')\n",
        "print(a4)\n",
        "a5 = scale_row(a4,(1/5),2) #R3-R1\n",
        "print('#5 Echelon Matrix A:')\n",
        "print(a5)"
      ],
      "metadata": {
        "colab": {
          "base_uri": "https://localhost:8080/"
        },
        "id": "6wu7Ob9MYTAH",
        "outputId": "30cc26c3-af62-4459-9bdd-12b432a1f699"
      },
      "execution_count": 22,
      "outputs": [
        {
          "output_type": "stream",
          "name": "stdout",
          "text": [
            "Matrix a:\n",
            "[[ 2 -2  0]\n",
            " [ 1  4 -5]\n",
            " [ 0  2  3]]\n",
            "#1 Matrix a:\n",
            "[[ 1 -1  0]\n",
            " [ 1  4 -5]\n",
            " [ 0  2  3]]\n",
            "#2 Matrix A:\n",
            "[[ 1 -1  0]\n",
            " [ 0  5 -5]\n",
            " [ 0  2  3]]\n",
            "#3 Matrix a:\n",
            "[[ 1 -1  0]\n",
            " [ 0  1 -1]\n",
            " [ 0  2  3]]\n",
            "#4 Matrix A:\n",
            "[[ 1 -1  0]\n",
            " [ 0  1 -1]\n",
            " [ 0  0  5]]\n",
            "#5 Echelon Matrix A:\n",
            "[[ 1 -1  0]\n",
            " [ 0  1 -1]\n",
            " [ 0  0  1]]\n"
          ]
        }
      ]
    },
    {
      "cell_type": "code",
      "source": [
        "#1.3 จงหาเมทริกซ์ผกผัน (Inverse matrix) ของเมทริกซ์ A (_____________________testtttttttttttttttttttttttttt_______________________)\n",
        "inverse_of_a = np.around(np.linalg.inv(a), decimals = 2)\n",
        "print(inverse_of_a)"
      ],
      "metadata": {
        "colab": {
          "base_uri": "https://localhost:8080/"
        },
        "id": "fRZEXT88pblx",
        "outputId": "6684168d-0dff-4d10-b7d6-095bbfc871a2"
      },
      "execution_count": 23,
      "outputs": [
        {
          "output_type": "stream",
          "name": "stdout",
          "text": [
            "[[1. 1. 1.]\n",
            " [0. 1. 1.]\n",
            " [0. 0. 1.]]\n"
          ]
        }
      ]
    },
    {
      "cell_type": "code",
      "source": [
        "#1.3 จงหาเมทริกซ์ผกผัน (Inverse matrix) ของเมทริกซ์ A (__________________________________real__________________________________)\n",
        "import numpy as np\n",
        "a = np.array([[2,-2,0],[1,4,-5],[0,2,3]])\n",
        "print('Matrix a:')\n",
        "print(a)\n",
        "n= a.shape[0]\n",
        "aI = np.hstack([a,np.identity(n)])\n",
        "\n",
        "def switch_rows(A,i,j):\n",
        "  A[[i, j]] = A[[j, i]]\n",
        "  return A\n",
        "\n",
        "def scale_row(A,k,i):\n",
        "  A[i] = k * A[i]\n",
        "  return A\n",
        "\n",
        "def add_row(A,k,i,j):\n",
        "  A[i] += k * A[j]\n",
        "  return A\n",
        "\n",
        "a1 = scale_row(aI,1/2,0) #R1/2\n",
        "print('#1 Matrix a:')\n",
        "print(a1)\n",
        "a2 = add_row(a1,-1,1,0) #R2-R1\n",
        "print('#2 Matrix A:')\n",
        "print(a2)\n",
        "a3 = scale_row(a2,(1/5),1) #R2/(1/5)\n",
        "print('#3 Matrix a:')\n",
        "print(a3)\n",
        "a4 = add_row(a3,-2,2,1) #R3-R2\n",
        "print('#4 Matrix A:')\n",
        "print(a4)\n",
        "a5 = scale_row(a4,(1/5),2) #R3/(1/5)\n",
        "print('#5 Matrix A:')\n",
        "print(a5)\n",
        "a6 = add_row(a5,1,1,2) # R2+R3\n",
        "print('#6 Matrix A:')\n",
        "print(a6)\n",
        "a7 = add_row(a6,1,0,1) # R1+R2\n",
        "print('#7 Matrix A:')\n",
        "print(a7)\n",
        "\n",
        "ainv = a7[:,n:] # inverse matrix\n",
        "print('Matrix a inverse:')\n",
        "print(ainv)\n",
        "\n",
        "print('Matrix A @ Matrix A inverse')\n",
        "print(a@ainv)\n",
        "\n",
        "# print(np.around(a@ainv,decimals=0))\n",
        "# if np.array_equal(np.around(a@ainv,decimals=0),np.identity(n)):\n",
        "#   print(\"Correct\")\n",
        "# else:\n",
        "#   print(\"Incorrect\")"
      ],
      "metadata": {
        "colab": {
          "base_uri": "https://localhost:8080/"
        },
        "id": "PN4zC06Arhd_",
        "outputId": "eb9ce77a-6de6-40b7-9f4a-c55ab593eb90"
      },
      "execution_count": 37,
      "outputs": [
        {
          "output_type": "stream",
          "name": "stdout",
          "text": [
            "Matrix a:\n",
            "[[ 2 -2  0]\n",
            " [ 1  4 -5]\n",
            " [ 0  2  3]]\n",
            "#1 Matrix a:\n",
            "[[ 1.  -1.   0.   0.5  0.   0. ]\n",
            " [ 1.   4.  -5.   0.   1.   0. ]\n",
            " [ 0.   2.   3.   0.   0.   1. ]]\n",
            "#2 Matrix A:\n",
            "[[ 1.  -1.   0.   0.5  0.   0. ]\n",
            " [ 0.   5.  -5.  -0.5  1.   0. ]\n",
            " [ 0.   2.   3.   0.   0.   1. ]]\n",
            "#3 Matrix a:\n",
            "[[ 1.  -1.   0.   0.5  0.   0. ]\n",
            " [ 0.   1.  -1.  -0.1  0.2  0. ]\n",
            " [ 0.   2.   3.   0.   0.   1. ]]\n",
            "#4 Matrix A:\n",
            "[[ 1.  -1.   0.   0.5  0.   0. ]\n",
            " [ 0.   1.  -1.  -0.1  0.2  0. ]\n",
            " [ 0.   0.   5.   0.2 -0.4  1. ]]\n",
            "#5 Matrix A:\n",
            "[[ 1.   -1.    0.    0.5   0.    0.  ]\n",
            " [ 0.    1.   -1.   -0.1   0.2   0.  ]\n",
            " [ 0.    0.    1.    0.04 -0.08  0.2 ]]\n",
            "#6 Matrix A:\n",
            "[[ 1.   -1.    0.    0.5   0.    0.  ]\n",
            " [ 0.    1.    0.   -0.06  0.12  0.2 ]\n",
            " [ 0.    0.    1.    0.04 -0.08  0.2 ]]\n",
            "#7 Matrix A:\n",
            "[[ 1.    0.    0.    0.44  0.12  0.2 ]\n",
            " [ 0.    1.    0.   -0.06  0.12  0.2 ]\n",
            " [ 0.    0.    1.    0.04 -0.08  0.2 ]]\n",
            "Matrix a inverse:\n",
            "[[ 0.44  0.12  0.2 ]\n",
            " [-0.06  0.12  0.2 ]\n",
            " [ 0.04 -0.08  0.2 ]]\n",
            "Matrix A @ Matrix A inverse\n",
            "[[ 1.00000000e+00  0.00000000e+00  0.00000000e+00]\n",
            " [-2.77555756e-17  1.00000000e+00 -5.55111512e-17]\n",
            " [ 2.77555756e-17 -5.55111512e-17  1.00000000e+00]]\n"
          ]
        }
      ]
    },
    {
      "cell_type": "code",
      "source": [
        "#1.4 จงตรวจสอบเมทริกซ์ผลลัพธ์ที่ได้จากข้อ 1.3 ว่าถูกต้องหรือไม่ หากถูกต้องแสดงข้อความว่า Correct หากไม่ถูกต้องแสดงข้อความ Incorrect โดยหากไม่ถูกต้องจงแก้ไขให้ถูกต้องด้วย\n",
        "print(np.around(a@ainv,decimals=0))\n",
        "if np.array_equal(np.around(a@ainv,decimals=0),np.identity(n)):\n",
        "  print(\"Correct\")\n",
        "else:\n",
        "  print(\"Incorrect\")"
      ],
      "metadata": {
        "colab": {
          "base_uri": "https://localhost:8080/"
        },
        "id": "sAE66Xxmt4nR",
        "outputId": "8a194087-079b-4a36-eec7-b5c708fb6066"
      },
      "execution_count": 36,
      "outputs": [
        {
          "output_type": "stream",
          "name": "stdout",
          "text": [
            "[[ 1.  0.  0.]\n",
            " [-0.  1. -0.]\n",
            " [ 0. -0.  1.]]\n",
            "Correct\n"
          ]
        }
      ]
    },
    {
      "cell_type": "code",
      "source": [
        "#2\n",
        "matrix_a =np.array([[1,2,1],[2,-4,5],[2,4,2]])"
      ],
      "metadata": {
        "id": "Ax8Y2LNzuYzo"
      },
      "execution_count": 54,
      "outputs": []
    },
    {
      "cell_type": "code",
      "source": [
        "#2.1 จงหา det(A)\n",
        "import numpy as np\n",
        "print(matrix_a)\n",
        "print('Det matrix_a = ', np.around(np.linalg.det(a) , decimals = 2))"
      ],
      "metadata": {
        "colab": {
          "base_uri": "https://localhost:8080/"
        },
        "id": "6080s-Uru6dS",
        "outputId": "d438700a-64b7-4d54-de47-aee48be96b2e"
      },
      "execution_count": 42,
      "outputs": [
        {
          "output_type": "stream",
          "name": "stdout",
          "text": [
            "[[1, 2, 1], [2, -4, 5], [2, 4, 2]]\n",
            "Det matrix_a =  50.0\n"
          ]
        }
      ]
    },
    {
      "cell_type": "code",
      "source": [
        "#2.2 จงหา Rank ของเมทริกซ์ที่กำหนดโดยใช้วิธีหาเมทริกซ์เอ็ซลอนลดรูปแบบแถว\n",
        "# Rank =  numbers of non-zero rows or column and only zero matrix has rank zero.\n",
        "print(\"manaul to find rank\")\n",
        "print('Rank matrix_a = ',np.linalg.matrix_rank(matrix_a))\n",
        "print(\"___________________________________\")\n",
        "print(\"find rank with echelon rows operation\")\n",
        "import numpy as np\n",
        "matrix_a =np.array([[1,2,1],[2,-4,5],[2,4,2]])\n",
        "print('Matrix a:')\n",
        "print(matrix_a)\n",
        "n= matrix_a.shape[0]\n",
        "\n",
        "def switch_rows(A,i,j):\n",
        "  A[[i, j]] = A[[j, i]]\n",
        "  return A\n",
        "\n",
        "def scale_row(A,k,i):\n",
        "  A[i] = k * A[i]\n",
        "  return A\n",
        "\n",
        "def add_row(A,k,i,j):\n",
        "  A[i] += k * A[j]\n",
        "  return A\n",
        "\n",
        "a1 = scale_row(matrix_a,1/2,2) #R2/2\n",
        "print('#1 Matrix a:')\n",
        "print(a1)\n",
        "a2 = add_row(a1,-1,2,0)\n",
        "print(\"#2 Matrix a:\")\n",
        "print(a2)\n",
        "a3 = add_row(a2,-2,1,0)\n",
        "print(\"#3 Matrix a:\")\n",
        "print(a3)\n",
        "a3_1 = scale_row(a3,(-1/8),1)\n",
        "print(\"#3_1 Matrix a:\")\n",
        "print(a3_1)\n",
        "a4 = add_row(a3_1,-2,0,1)\n",
        "print(\"#4 Matrix a:\")\n",
        "print(a4)\n",
        "\n",
        "result = np.all((a4 == 0), axis=1)\n",
        "print('Is zero row?',result)\n",
        "zero_row=len([i for i in range(n) if result[i] ])\n",
        "rank_matrix_a= n-zero_row\n",
        "print('1.1 Rank A =',rank_matrix_a)\n",
        "print('1.2 Rank A = ',np.linalg.matrix_rank(a4))"
      ],
      "metadata": {
        "colab": {
          "base_uri": "https://localhost:8080/"
        },
        "id": "1zorMA8Ru_sk",
        "outputId": "34f08839-c48e-4ef6-c064-c9cd7c16e68c"
      },
      "execution_count": 59,
      "outputs": [
        {
          "output_type": "stream",
          "name": "stdout",
          "text": [
            "manaul to find rank\n",
            "Rank matrix_a =  2\n",
            "___________________________________\n",
            "find rank with echelon rows operation\n",
            "Matrix a:\n",
            "[[ 1  2  1]\n",
            " [ 2 -4  5]\n",
            " [ 2  4  2]]\n",
            "#1 Matrix a:\n",
            "[[ 1  2  1]\n",
            " [ 2 -4  5]\n",
            " [ 1  2  1]]\n",
            "#2 Matrix a:\n",
            "[[ 1  2  1]\n",
            " [ 2 -4  5]\n",
            " [ 0  0  0]]\n",
            "#3 Matrix a:\n",
            "[[ 1  2  1]\n",
            " [ 0 -8  3]\n",
            " [ 0  0  0]]\n",
            "#3_1 Matrix a:\n",
            "[[1 2 1]\n",
            " [0 1 0]\n",
            " [0 0 0]]\n",
            "#4 Matrix a:\n",
            "[[1 0 1]\n",
            " [0 1 0]\n",
            " [0 0 0]]\n",
            "Is zero row? [False False  True]\n",
            "1.1 Rank A = 2\n",
            "1.2 Rank A =  2\n"
          ]
        }
      ]
    }
  ]
}