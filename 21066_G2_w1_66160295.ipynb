{
  "nbformat": 4,
  "nbformat_minor": 0,
  "metadata": {
    "colab": {
      "provenance": []
    },
    "kernelspec": {
      "name": "python3",
      "display_name": "Python 3"
    },
    "language_info": {
      "name": "python"
    }
  },
  "cells": [
    {
      "cell_type": "markdown",
      "metadata": {
        "id": "dykmieOgFVGc"
      },
      "source": [
        "**ให้นิสิต เลือกเมนู File-->Save a copy in drive เพื่อคัดลอกไฟล์ไปไว้ในไดร์ฟของนิสิตก่อน และเปลี่ยนชื่อไฟล์เป็น รหัสนิสิต_week1.ipynb ก่อนส่งงานค่ะ**\n",
        "\n",
        "1.จงสร้างเมทริกซ์     \n",
        "\\begin{equation*}\n",
        "A =\n",
        "\\begin{bmatrix}\n",
        "0 & -3  \\\\\n",
        "-3 & 0\n",
        "\\end{bmatrix},\n",
        "B =\n",
        "\\begin{bmatrix}\n",
        "0 & 5  \\\\\n",
        "-5 & 0\n",
        "\\end{bmatrix},\n",
        "C =\n",
        "\\begin{bmatrix}\n",
        "1 & -2  \\\\\n",
        "2 & 1\n",
        "\\end{bmatrix}\n",
        "\\end{equation*}\n",
        "\n",
        " โดยใช้ Python\n",
        "\n",
        "1.1\tจงหา 2A + B\n",
        "\n",
        "1.2 จงหา C - 3B\n",
        "\n",
        "1.3     จงตรวจสอบว่า A$^T$B$^T$ = (AB)$^T$ หรือไม่\n",
        "          ถ้าเท่าให้แสดงข้อความ Yes ไม่เท่าแสดงข้อความ No\n",
        "\n",
        "1.4\tจงตรวจสอบว่า  2A+2B = 4(B+A)  หรือไม่\n",
        "          ถ้าเท่าให้แสดงข้อความ Yes ไม่เท่าแสดงข้อความ No\n",
        "\n",
        "1.5\tจงตรวจสอบว่า A เป็นเมทริกซ์สมมาตรหรือไม่\n",
        "          ถ้าเป็นให้แสดงข้อความ Yes ไม่เป็นแสดงข้อความ No\n",
        "\n",
        "1.6\tจงตรวจสอบว่า B เป็นเมทริกซ์เสมือนสมมาตรหรือไม่\n",
        "          ถ้าเป็นให้แสดงข้อความ Yes ไม่เป็นแสดงข้อความ No\n",
        "\n",
        "1.7\tจงตรวจสอบว่า C เป็นเมทริกซ์เสมือนสมมาตรหรือไม่\n",
        "          ถ้าเป็นให้แสดงข้อความ Yes ไม่เป็นแสดงข้อความ No\n",
        "\n",
        "1.8 จงหา C$^3$\n",
        "\n",
        "1.9\tจงตรวจสอบว่า (3A$^T$)C = 3(A$^T$C) หรือไม่ ถ้าเท่าให้แสดงข้อความ Yes ถ้าไม่เท่าแสดงข้อความ NO\n",
        "\n",
        "2.จงสร้างเมทริกซ์     \n",
        "\\begin{equation*}\n",
        "D =\n",
        "\\begin{bmatrix}\n",
        "1 & 0 & 4 \\\\\n",
        "2 & 6 & -1  \n",
        "\\end{bmatrix},\n",
        "E =\n",
        "\\begin{bmatrix}\n",
        "5 & 8  \\\\\n",
        "0 & -2  \\\\\n",
        "1 & 4\n",
        "\\end{bmatrix}\n",
        "\\end{equation*}   โดยใช้ Python\n",
        "\n",
        "\n",
        "2.1 จงตรวจสอบว่า DE = ED หรือไม่\n",
        "           ถ้าเท่าให้แสดงข้อความ Yes ไม่เท่าแสดงข้อความ No\n",
        "\n",
        "2.2 จงตรวจสอบว่า (ED)$^T$ = D$^T$E$^T$ หรือไม่\n",
        "          ถ้าเท่าให้แสดงข้อความ Yes ไม่เท่าแสดงข้อความ No\n",
        "\n",
        "\n",
        "\n",
        "\n",
        "\n",
        "\n",
        "\n"
      ]
    },
    {
      "cell_type": "code",
      "source": [
        "#ชื่อ........................รหัส............"
      ],
      "metadata": {
        "id": "nApXAxK_9D81"
      },
      "execution_count": null,
      "outputs": []
    },
    {
      "cell_type": "code",
      "source": [
        "import numpy as np"
      ],
      "metadata": {
        "id": "8Innj-jLqHZG"
      },
      "execution_count": null,
      "outputs": []
    },
    {
      "cell_type": "code",
      "source": [
        "matrix_A = np.array([[0,-3],[-3,0]])\n",
        "matrix_B = np.array([[0,5],[-5,0]])\n",
        "matrix_C = np.array([[1,-2],[2,1]])"
      ],
      "metadata": {
        "id": "Ugsb9i9pqJzO"
      },
      "execution_count": null,
      "outputs": []
    },
    {
      "cell_type": "code",
      "source": [
        "#1.1 จงหา 2A + B\n",
        "print(2*(matrix_A) +matrix_B)"
      ],
      "metadata": {
        "colab": {
          "base_uri": "https://localhost:8080/"
        },
        "id": "0RC8dntxqZdu",
        "outputId": "8508ecff-8ed1-4d3d-f7fd-759c91aa7551"
      },
      "execution_count": null,
      "outputs": [
        {
          "output_type": "stream",
          "name": "stdout",
          "text": [
            "[[  0  -1]\n",
            " [-11   0]]\n"
          ]
        }
      ]
    },
    {
      "cell_type": "code",
      "source": [
        "#1.2 จงหา C - 3B\n",
        "print(matrix_C - 3*matrix_B)"
      ],
      "metadata": {
        "colab": {
          "base_uri": "https://localhost:8080/"
        },
        "id": "S_3Gc9reqka1",
        "outputId": "e286f5b3-c671-4743-9b29-47be36c3cd09"
      },
      "execution_count": null,
      "outputs": [
        {
          "output_type": "stream",
          "name": "stdout",
          "text": [
            "[[  1 -17]\n",
            " [ 17   1]]\n"
          ]
        }
      ]
    },
    {
      "cell_type": "code",
      "source": [
        "#1.3 จงตรวจสอบว่า A T B T  = (AB) T  หรือไม่ ถ้าเท่าให้แสดงข้อความ Yes ไม่เท่าแสดงข้อความ No\n",
        "print(\"a tranpose\")\n",
        "print(matrix_A.T)\n",
        "print(\"b tranpose\")\n",
        "print(matrix_B.T)\n",
        "print(\"_____________________\")\n",
        "print(\"A^T B^T\")\n",
        "print(matrix_A.T @ matrix_B.T)\n",
        "print(\"_____________________\")\n",
        "print(\"(AB)^T\")\n",
        "print((matrix_A @ matrix_B).T)\n",
        "print(\"_____________________\")\n",
        "# print(matrix_A.T @ matrix_B.T == (matrix_A @ matrix_B).T)\n",
        "print(\"Answer:\")\n",
        "if np.array_equal(matrix_A.T @ matrix_B.T, (matrix_A @ matrix_B).T):\n",
        "  print(\"Yes\")\n",
        "else:\n",
        "  print(\"No\")"
      ],
      "metadata": {
        "colab": {
          "base_uri": "https://localhost:8080/"
        },
        "id": "h1cVisy-qpyk",
        "outputId": "56722b66-981f-454f-b00b-4ef5e0e95e17"
      },
      "execution_count": null,
      "outputs": [
        {
          "output_type": "stream",
          "name": "stdout",
          "text": [
            "a tranpose\n",
            "[[ 0 -3]\n",
            " [-3  0]]\n",
            "b tranpose\n",
            "[[ 0 -5]\n",
            " [ 5  0]]\n",
            "_____________________\n",
            "A^T B^T\n",
            "[[-15   0]\n",
            " [  0  15]]\n",
            "_____________________\n",
            "(AB)^T\n",
            "[[ 15   0]\n",
            " [  0 -15]]\n",
            "_____________________\n",
            "Answer:\n",
            "No\n"
          ]
        }
      ]
    },
    {
      "cell_type": "code",
      "source": [
        "#1.4 จงตรวจสอบว่า 2A+2B = 4(B+A) หรือไม่ ถ้าเท่าให้แสดงข้อความ Yes ไม่เท่าแสดงข้อความ No\n",
        "print(2*matrix_A + 2*matrix_B)\n",
        "print(\"______________________\")\n",
        "print(4*(matrix_B + matrix_A))\n",
        "print(\"______________________\")\n",
        "print(2*matrix_A + 2*matrix_B == 4*(matrix_B + matrix_A))\n",
        "if np.array_equal(2*matrix_A + 2*matrix_B, 4*(matrix_B + matrix_A)):\n",
        "  print(\"Yes\")\n",
        "else:\n",
        "  print(\"No\")"
      ],
      "metadata": {
        "colab": {
          "base_uri": "https://localhost:8080/"
        },
        "id": "onYgvl7GrX91",
        "outputId": "eaf52b44-184c-4359-a3b8-77652a51c152"
      },
      "execution_count": null,
      "outputs": [
        {
          "output_type": "stream",
          "name": "stdout",
          "text": [
            "[[  0   4]\n",
            " [-16   0]]\n",
            "______________________\n",
            "[[  0   8]\n",
            " [-32   0]]\n",
            "______________________\n",
            "[[ True False]\n",
            " [False  True]]\n",
            "No\n"
          ]
        }
      ]
    },
    {
      "cell_type": "code",
      "source": [
        "#1.5 จงตรวจสอบว่า A เป็นเมทริกซ์สมมาตรหรือไม่ ถ้าเป็นให้แสดงข้อความ Yes ไม่เป็นแสดงข้อความ No\n",
        "def is_symmetric(matrix):\n",
        "  return np.array_equal(matrix, matrix.T)\n",
        "if is_symmetric(matrix_A):\n",
        "  print(\"Yes\")\n",
        "else:\n",
        "  print(\"No\")"
      ],
      "metadata": {
        "colab": {
          "base_uri": "https://localhost:8080/"
        },
        "id": "qyFCqR00ryfV",
        "outputId": "466a672d-fe12-4169-debe-361901589ef9"
      },
      "execution_count": null,
      "outputs": [
        {
          "output_type": "stream",
          "name": "stdout",
          "text": [
            "Yes\n"
          ]
        }
      ]
    },
    {
      "cell_type": "code",
      "source": [
        "#1.6 จงตรวจสอบว่า B เป็นเมทริกซ์เสมือนสมมาตรหรือไม่ ถ้าเป็นให้แสดงข้อความ Yes ไม่เป็นแสดงข้อความ No\n",
        "if np.array_equal(-matrix_B,matrix_B.T):\n",
        "  print(\"Yes\")\n",
        "else:\n",
        "  print(\"No\")"
      ],
      "metadata": {
        "colab": {
          "base_uri": "https://localhost:8080/"
        },
        "id": "kNLV6SGer708",
        "outputId": "137971b6-7026-4921-d4a8-e6a315fa4c34"
      },
      "execution_count": null,
      "outputs": [
        {
          "output_type": "stream",
          "name": "stdout",
          "text": [
            "Yes\n"
          ]
        }
      ]
    },
    {
      "cell_type": "code",
      "source": [
        "#1.7 จงตรวจสอบว่า C เป็นเมทริกซ์เสมือนสมมาตรหรือไม่ ถ้าเป็นให้แสดงข้อความ Yes ไม่เป็นแสดงข้อความ No\n",
        "if np.array_equal(-matrix_C,matrix_C.T):\n",
        "  print(\"Yes\")\n",
        "else:\n",
        "  print(\"No\")"
      ],
      "metadata": {
        "colab": {
          "base_uri": "https://localhost:8080/"
        },
        "id": "d7HjhpyIsn4l",
        "outputId": "660a27d7-97eb-4fb6-9084-b1ec9fd1e173"
      },
      "execution_count": null,
      "outputs": [
        {
          "output_type": "stream",
          "name": "stdout",
          "text": [
            "No\n"
          ]
        }
      ]
    },
    {
      "cell_type": "code",
      "source": [
        "#1.8 C**3\n",
        "print(matrix_C**3)"
      ],
      "metadata": {
        "colab": {
          "base_uri": "https://localhost:8080/"
        },
        "id": "lGwvvHm4tDY8",
        "outputId": "32d1c889-f81f-4fca-a4d1-a74b33d4953a"
      },
      "execution_count": null,
      "outputs": [
        {
          "output_type": "stream",
          "name": "stdout",
          "text": [
            "[[ 1 -8]\n",
            " [ 8  1]]\n"
          ]
        }
      ]
    },
    {
      "cell_type": "code",
      "source": [
        "#1.9 จงตรวจสอบว่า (3A T )C = 3(A T C) หรือไม่ ถ้าเท่าให้แสดงข้อความ Yes ถ้าไม่เท่าแสดงข้อความ NO\n",
        "print((3*matrix_A.T) @ matrix_C)\n",
        "print(\"_____________________\")\n",
        "print(3*(matrix_A.T @ matrix_C))\n",
        "print(\"_____________________\")\n",
        "if np.array_equal((3*matrix_A.T) @ matrix_C, 3*(matrix_A.T @ matrix_C)):\n",
        "  print(\"Yes\")\n",
        "else:\n",
        "  print(\"No\")"
      ],
      "metadata": {
        "colab": {
          "base_uri": "https://localhost:8080/"
        },
        "id": "9bUH-JNntx7F",
        "outputId": "d86c4dcb-fc3e-4fde-dd89-307750a1b4cb"
      },
      "execution_count": null,
      "outputs": [
        {
          "output_type": "stream",
          "name": "stdout",
          "text": [
            "[[-18  -9]\n",
            " [ -9  18]]\n",
            "_____________________\n",
            "[[-18  -9]\n",
            " [ -9  18]]\n",
            "Yes\n"
          ]
        }
      ]
    },
    {
      "cell_type": "code",
      "source": [
        "#2.\n",
        "matrix_D = np.array([[1,0,4],[2,6,-1]])\n",
        "matrix_E = np.array([[5,8],[0,-2],[1,4]])"
      ],
      "metadata": {
        "id": "BWl_aW71uHf0"
      },
      "execution_count": null,
      "outputs": []
    },
    {
      "cell_type": "code",
      "source": [
        "#2.1 จงตรวจสอบว่า DE = ED หรือไม่ ถ้าเท่าให้แสดงข้อความ Yes ไม่เท่าแสดงข้อความ No\n",
        "print(matrix_D @ matrix_E)\n",
        "print(\"_____________________\")\n",
        "print(matrix_E @ matrix_D)\n",
        "print(\"_____________________\")\n",
        "print(\"Answer:\")\n",
        "if np.array_equal(matrix_D @ matrix_E, matrix_E @ matrix_D):\n",
        "  print(\"Yes\")\n",
        "else:\n",
        "  print(\"No\")"
      ],
      "metadata": {
        "colab": {
          "base_uri": "https://localhost:8080/"
        },
        "id": "Pz3avvRCuTAG",
        "outputId": "2117fd4d-66a9-4a42-f3d3-2560f3e62c8d"
      },
      "execution_count": null,
      "outputs": [
        {
          "output_type": "stream",
          "name": "stdout",
          "text": [
            "[[ 9 24]\n",
            " [ 9  0]]\n",
            "_____________________\n",
            "[[ 21  48  12]\n",
            " [ -4 -12   2]\n",
            " [  9  24   0]]\n",
            "_____________________\n",
            "No\n"
          ]
        }
      ]
    },
    {
      "cell_type": "code",
      "source": [
        "#2.2 จงตรวจสอบว่า (ED) T  = D T E T  หรือไม่ ถ้าเท่าให้แสดงข้อความ Yes ไม่เท่าแสดงข้อความ No\n",
        "print(matrix_D.T @ matrix_E.T)\n",
        "print(\"_____________________\")\n",
        "print((matrix_E @ matrix_D).T)\n",
        "print(\"_____________________\")\n",
        "print(\"Answer:\")\n",
        "if np.array_equal(matrix_D.T @ matrix_E.T, (matrix_E @ matrix_D).T):\n",
        "  print(\"Yes\")\n",
        "else:\n",
        "  print(\"No\")"
      ],
      "metadata": {
        "colab": {
          "base_uri": "https://localhost:8080/"
        },
        "id": "E0J61bB8uZec",
        "outputId": "4a75d537-b5b4-4209-e5db-79c45a52f76d"
      },
      "execution_count": null,
      "outputs": [
        {
          "output_type": "stream",
          "name": "stdout",
          "text": [
            "[[ 21  -4   9]\n",
            " [ 48 -12  24]\n",
            " [ 12   2   0]]\n",
            "_____________________\n",
            "[[ 21  -4   9]\n",
            " [ 48 -12  24]\n",
            " [ 12   2   0]]\n",
            "_____________________\n",
            "Answer:\n",
            "Yes\n"
          ]
        }
      ]
    },
    {
      "cell_type": "code",
      "source": [],
      "metadata": {
        "id": "W6zzLzZNxAYE"
      },
      "execution_count": null,
      "outputs": []
    }
  ]
}